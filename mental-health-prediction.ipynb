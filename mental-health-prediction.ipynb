{
 "cells": [
  {
   "cell_type": "code",
   "execution_count": null,
   "metadata": {},
   "outputs": [],
   "source": [
    "\n",
    "import numpy as np # linear algebra\n",
    "import pandas as pd # data processing, CSV file I/O (e.g. pd.read_csv)\n",
    "\n",
    "# Input data files are available in the \"../input/\" directory.\n",
    "# For example, running this (by clicking run or pressing Shift+Enter) will list all files under the input directory\n",
    "\n",
    "import os\n",
    "for dirname, _, filenames in os.walk('/kaggle/input'):\n",
    "    for filename in filenames:\n",
    "        print(os.path.join(dirname, filename))"
   ]
  },
  {
   "cell_type": "code",
   "execution_count": null,
   "metadata": {},
   "outputs": [],
   "source": [
    "\n",
    "import matplotlib.pyplot as plt\n",
    "import seaborn as sns\n",
    "from scipy.stats import norm\n",
    "from sklearn.preprocessing import StandardScaler\n",
    "from scipy import stats\n",
    "import warnings\n",
    "warnings.filterwarnings('ignore')\n",
    "%matplotlib inline\n"
   ]
  },
  {
   "cell_type": "code",
   "execution_count": null,
   "metadata": {
    "scrolled": true
   },
   "outputs": [],
   "source": [
    "df = pd.read_excel('Cleaned Data.xlsx')"
   ]
  },
  {
   "cell_type": "code",
   "execution_count": null,
   "metadata": {},
   "outputs": [],
   "source": [
    "df.head()"
   ]
  },
  {
   "cell_type": "code",
   "execution_count": null,
   "metadata": {},
   "outputs": [],
   "source": [
    "df.info()"
   ]
  },
  {
   "cell_type": "markdown",
   "metadata": {},
   "source": [
    "__Potential Variables as likely predictors of a mental illness:__\n",
    "Unemployment, Education, Income\n"
   ]
  },
  {
   "cell_type": "code",
   "execution_count": null,
   "metadata": {},
   "outputs": [],
   "source": [
    "#renaming Columns\n",
    "df.rename(columns={'I identify as having a mental illness':'MentallyIll'}, inplace =True)\n",
    "df.rename(columns={'I am unemployed':'Unemployed'}, inplace =True)\n"
   ]
  },
  {
   "cell_type": "code",
   "execution_count": null,
   "metadata": {},
   "outputs": [],
   "source": [
    "df.MentallyIll"
   ]
  },
  {
   "cell_type": "code",
   "execution_count": null,
   "metadata": {},
   "outputs": [],
   "source": [
    "# Show all column values\n",
    "#pd.set_option('display.max_columns', None)\n",
    "#Delete Identifying columns and other unneeded info\n",
    "#cols = list(range(0,9))\n",
    "#df.drop(df.columns[cols], axis=1, inplace=True)"
   ]
  },
  {
   "cell_type": "code",
   "execution_count": null,
   "metadata": {},
   "outputs": [],
   "source": [
    "#Replace Yes and No's with 0s and 1s, replace NaNs\n",
    "df = df.replace(to_replace=['No', 'Yes'], value=[0, 1])\n",
    "df = df.fillna(0)\n",
    "#remove first row of response\n",
    "df = df.iloc[1:]\n",
    "df.head(5)"
   ]
  },
  {
   "cell_type": "markdown",
   "metadata": {},
   "source": [
    "ill = pd.to_numeric(df.MentallyIll)\n",
    "unempl = pd.to_numeric(df.Unemployed)"
   ]
  },
  {
   "cell_type": "code",
   "execution_count": null,
   "metadata": {},
   "outputs": [],
   "source": [
    "df['Annual income (including any social welfare programs) in USD']"
   ]
  },
  {
   "cell_type": "code",
   "execution_count": null,
   "metadata": {},
   "outputs": [],
   "source": [
    "#renaming income columns\n",
    "df.rename(columns={'Annual income (including any social welfare programs) in USD':'Income'}, inplace =True)"
   ]
  },
  {
   "cell_type": "code",
   "execution_count": null,
   "metadata": {},
   "outputs": [],
   "source": [
    "income = pd.to_numeric(df.Income)\n"
   ]
  },
  {
   "cell_type": "code",
   "execution_count": null,
   "metadata": {},
   "outputs": [],
   "source": [
    "#Income stats of all respondents\n",
    "income.describe()"
   ]
  },
  {
   "cell_type": "code",
   "execution_count": null,
   "metadata": {},
   "outputs": [],
   "source": [
    "a4_dims = (20, 5.27)\n",
    "fig, ax = plt.subplots(figsize=a4_dims)\n",
    "sns.countplot(df.Education)\n",
    "#sns.countplot(ill)"
   ]
  },
  {
   "cell_type": "code",
   "execution_count": null,
   "metadata": {},
   "outputs": [],
   "source": [
    "edu = df.Education.to_frame().to_records()"
   ]
  },
  {
   "cell_type": "code",
   "execution_count": null,
   "metadata": {},
   "outputs": [],
   "source": [
    "df.columns"
   ]
  },
  {
   "cell_type": "code",
   "execution_count": null,
   "metadata": {},
   "outputs": [],
   "source": [
    "mental = df.MentallyIll.to_frame().to_records()\n",
    "income = df.Income.to_frame().to_records()\n",
    "unemployed = df.Unemployed.to_frame().to_records()\n",
    "gender = df.Gender.to_frame().to_records()\n",
    "age = df.Age.to_frame().to_records()"
   ]
  },
  {
   "cell_type": "code",
   "execution_count": null,
   "metadata": {},
   "outputs": [],
   "source": [
    "sixty, fifty, thirty, twenty = [], [], [], []\n",
    "for i in age:\n",
    "    if i[1] == '> 60':\n",
    "        sixty.append((i[0], income[i[0]-1][1], unemployed[i[0]-1][1]))\n",
    "    elif i[1] == '45-60':\n",
    "        fifty.append((i[0], income[i[0]-1][1], unemployed[i[0]-1][1]))\n",
    "    elif i[1] == '30-44':\n",
    "        thirty.append((i[0], income[i[0]-1][1], unemployed[i[0]-1][1]))\n",
    "    elif i[1] == '18-29':\n",
    "        twenty.append((i[0], income[i[0]-1][1], unemployed[i[0]-1][1]))\n",
    "        "
   ]
  },
  {
   "cell_type": "code",
   "execution_count": null,
   "metadata": {},
   "outputs": [],
   "source": [
    "age_list = [sixty, fifty, thirty, twenty]\n",
    "title_age_list = ['Sixties', 'Fifties', 'Thirties', 'Twenties']\n",
    "j = 0;\n",
    "for i in age_list:\n",
    "    #sort by income\n",
    "    x_val = sorted([x[1] for x in i])\n",
    "    unemp = [x[2] for x in i]\n",
    "\n",
    "    #convert income to integers\n",
    "    x_int = []\n",
    "    for i in x_val:\n",
    "        x_int.append(int(i))\n",
    "\n",
    "    #Removing plots to reduce kernel size\n",
    "    #a4_dims = (20, 4)\n",
    "    #fig, ax = plt.subplots(figsize=a4_dims)\n",
    "    #g = sns.scatterplot(x = x_int, y=unemp)\n",
    "    #ax.set(xlabel='Income', ylabel='Unemployed')\n",
    "    #plt.title(title_age_list[j])\n",
    "    print(title_age_list[j], '-- Percent Unemployed:', sum(unemp)/len(unemp))\n",
    "    j = j+1"
   ]
  },
  {
   "cell_type": "code",
   "execution_count": null,
   "metadata": {},
   "outputs": [],
   "source": [
    "#separate and regroup data based on education level\n",
    "completed_masters, completed_undergrad, high_school, some_Phd, completed_Phd, some_highschool, some_undergrad, some_masters = [], [], [], [],[], [], [], [] \n",
    "for i in edu:\n",
    "    if i[1] == 'Completed Masters':\n",
    "        completed_masters.append((i[0], mental[i[0]-1][1], income[i[0]-1][1], unemployed[i[0]-1][1], gender[i[0]-1][1], age[i[0]-1][1]))\n",
    "    elif i[1] == 'Completed Undergraduate':\n",
    "        completed_undergrad.append((i[0], mental[i[0]-1][1], income[i[0]-1][1], unemployed[i[0]-1][1], gender[i[0]-1][1], age[i[0]-1][1]))\n",
    "    elif i[1] == 'High School or GED':\n",
    "        high_school.append((i[0], mental[i[0]-1][1], income[i[0]-1][1], unemployed[i[0]-1][1], gender[i[0]-1][1], age[i[0]-1][1]))\n",
    "    elif i[1] == 'Some Phd':\n",
    "        some_Phd.append((i[0], mental[i[0]-1][1], income[i[0]-1][1], unemployed[i[0]-1][1], gender[i[0]-1][1], age[i[0]-1][1]))\n",
    "    elif i[1] == 'Completed Phd':\n",
    "        completed_Phd.append((i[0], mental[i[0]-1][1], income[i[0]-1][1], unemployed[i[0]-1][1], gender[i[0]-1][1], age[i[0]-1][1]))\n",
    "    elif i[1] == 'Some highschool':\n",
    "        some_highschool.append((i[0], mental[i[0]-1][1], income[i[0]-1][1], unemployed[i[0]-1][1], gender[i[0]-1][1], age[i[0]-1][1]))\n",
    "    elif i[1] == 'Some Undergraduate':\n",
    "        some_undergrad.append((i[0], mental[i[0]-1][1], income[i[0]-1][1], unemployed[i[0]-1][1], gender[i[0]-1][1], age[i[0]-1][1]))\n",
    "    else:\n",
    "        some_masters.append((i[0], mental[i[0]-1][1], income[i[0]-1][1], unemployed[i[0]-1][1], gender[i[0]-1][1], age[i[0]-1][1]))"
   ]
  },
  {
   "cell_type": "code",
   "execution_count": null,
   "metadata": {
    "scrolled": true
   },
   "outputs": [],
   "source": [
    "#Plot data, different graphs for different education levels\n",
    "tot_list = [completed_masters, completed_undergrad, high_school, some_Phd, completed_Phd, some_highschool, some_undergrad, some_masters]\n",
    "title_list = ['Completed Masters', 'Completed Undergrad', 'High School', 'Some PhD', 'Completed PhD', 'Some Highschool', 'Some Undergrad', 'Some Masters']\n",
    "j = 0;\n",
    "for i in tot_list:\n",
    "    #sort by income\n",
    "    x_val = sorted([x[2] for x in i])\n",
    "    y_val = [x[1] for x in i]\n",
    "    unemp = [x[3] for x in i]\n",
    "    gend = [x[4] for x in i]\n",
    "    age = [x[5] for x in i]\n",
    "\n",
    "    #convert income to integers\n",
    "    x_int = []\n",
    "    for i in x_val:\n",
    "        x_int.append(int(i))\n",
    "\n",
    "    #convert binary employment to text labels\n",
    "    for i in range(len(unemp)):\n",
    "        if unemp[i] == 1:\n",
    "            unemp[i] = 'Unemployed'\n",
    "        elif unemp[i] == 0:\n",
    "            unemp[i] = 'Employed'\n",
    "\n",
    "    a4_dims = (20, 4)\n",
    "    fig, ax = plt.subplots(figsize=a4_dims)\n",
    "    g = sns.scatterplot(x = x_int, y=y_val, \n",
    "                        hue=unemp, hue_order = ('Employed', 'Unemployed'), \n",
    "                        style=gend, \n",
    "                        size=age, size_order = ('> 60', '45-60', '30-44','18-29'))\n",
    "    ax.set(xlabel='Income', ylabel='Mentally Ill')\n",
    "    plt.title(title_list[j])\n",
    "    j = j+1"
   ]
  },
  {
   "cell_type": "markdown",
   "metadata": {},
   "source": [
    "__Begin Machine Learning Part__\n",
    "- Clean Dataset: Change to binary representation, use median age, give numeric score for education level"
   ]
  },
  {
   "cell_type": "code",
   "execution_count": null,
   "metadata": {},
   "outputs": [],
   "source": [
    "#use new dataframe for ML part\n",
    "df2 = df\n",
    "#remove last 3 irrelevant columns\n",
    "df2 = df2.iloc[:, :-3]\n",
    "#replace issues with binary representations\n",
    "df2 = df2.replace(['Lack of concentration','Anxiety', 'Depression', \n",
    "                   'Obsessive thinking', 'Panic attacks', 'Compulsive behavior', \n",
    "                   'Mood swings', 'Tiredness'], 1)\n",
    "#replace gender -> Male = 1, Female = 0\n",
    "df2 = df2.replace(to_replace=['Female', 'Male'], value=[0, 1])\n",
    "#replace age with median\n",
    "df2 = df2.replace(to_replace=['> 60', '45-60', '30-44','18-29'], value=[65, 52, 37, 23])\n",
    "#replace education with ranking, 0 is lowest educated 7 is highest\n",
    "df2 = df2.replace(to_replace=['Completed Phd', 'Some Phd', 'Completed Masters','Some\\xa0Masters', \n",
    "                              'Completed Undergraduate', 'Some Undergraduate', 'High School or GED', 'Some highschool']\n",
    "                              , value=[7, 6, 5, 4, 3, 2, 1, 0])"
   ]
  },
  {
   "cell_type": "code",
   "execution_count": null,
   "metadata": {},
   "outputs": [],
   "source": [
    "#Fully cleaned data\n",
    "df2.head(5)"
   ]
  },
  {
   "cell_type": "code",
   "execution_count": null,
   "metadata": {},
   "outputs": [],
   "source": [
    "#Covariance Matrix\n",
    "corrmat = df2.corr()\n",
    "f, ax = plt.subplots(figsize=(12, 9))\n",
    "sns.heatmap(corrmat, vmax=.8, square=True);\n",
    "plt.show()"
   ]
  },
  {
   "cell_type": "markdown",
   "metadata": {},
   "source": [
    "Strong negative correlation between obvious features of unemployed and currently employed at least part time. Strong positive correlation between depression and mentally ill, obsessive and compulive, panic attacks and anxiety."
   ]
  },
  {
   "cell_type": "code",
   "execution_count": null,
   "metadata": {},
   "outputs": [],
   "source": [
    "#Unemployed correlation matrix\n",
    "k = 10 #number of variables for heatmap\n",
    "cols = corrmat.nlargest(k, 'Unemployed')['Unemployed'].index\n",
    "cm = np.corrcoef(df2[cols].values.T)\n",
    "sns.set(font_scale=1.25)\n",
    "hm = sns.heatmap(cm, cbar=True, annot=True, square=True, fmt='.2f', annot_kws={'size': 10}, yticklabels=cols.values, xticklabels=cols.values)\n",
    "plt.show()"
   ]
  },
  {
   "cell_type": "code",
   "execution_count": null,
   "metadata": {},
   "outputs": [],
   "source": [
    "#MentallyIll correlation matrix\n",
    "k = 10 #number of variables for heatmap\n",
    "cols = corrmat.nlargest(k, 'MentallyIll')['MentallyIll'].index\n",
    "cm = np.corrcoef(df2[cols].values.T)\n",
    "sns.set(font_scale=1.25)\n",
    "hm = sns.heatmap(cm, cbar=True, annot=True, square=True, fmt='.2f', annot_kws={'size': 10}, yticklabels=cols.values, xticklabels=cols.values)\n",
    "plt.show()"
   ]
  },
  {
   "cell_type": "code",
   "execution_count": null,
   "metadata": {
    "scrolled": true
   },
   "outputs": [],
   "source": [
    "#Begin Random Forest\n",
    "from sklearn.model_selection import train_test_split\n",
    "from sklearn.ensemble import RandomForestClassifier\n",
    "\n",
    "#set target and drop from data\n",
    "df3 = df2.copy()\n",
    "df4 = df2.copy()\n",
    "df5 = df2.copy()\n",
    "target=df2['MentallyIll']\n",
    "df2.drop(['MentallyIll'],axis=1,inplace=True)"
   ]
  },
  {
   "cell_type": "code",
   "execution_count": null,
   "metadata": {},
   "outputs": [],
   "source": [
    "df2.info()"
   ]
  },
  {
   "cell_type": "code",
   "execution_count": null,
   "metadata": {},
   "outputs": [],
   "source": [
    "X = df2\n",
    "X_train, X_test, y_train, y_test = train_test_split(X,target, test_size=0.2, random_state=0)\n",
    "forest = RandomForestClassifier(max_depth=10, random_state=0)\n",
    "forest.fit(X_train, y_train)"
   ]
  },
  {
   "cell_type": "code",
   "execution_count": null,
   "metadata": {},
   "outputs": [],
   "source": [
    "print(forest.score(X_test,y_test))\n",
    "#print(forest.score(X_train, y_train))"
   ]
  },
  {
   "cell_type": "code",
   "execution_count": null,
   "metadata": {},
   "outputs": [],
   "source": []
  },
  {
   "cell_type": "code",
   "execution_count": null,
   "metadata": {},
   "outputs": [],
   "source": [
    "df2.shape"
   ]
  },
  {
   "cell_type": "code",
   "execution_count": null,
   "metadata": {},
   "outputs": [],
   "source": [
    "df2.head()"
   ]
  },
  {
   "cell_type": "code",
   "execution_count": null,
   "metadata": {},
   "outputs": [],
   "source": [
    "df2.columns"
   ]
  },
  {
   "cell_type": "code",
   "execution_count": null,
   "metadata": {},
   "outputs": [],
   "source": [
    "import pickle\n",
    "with open('model.pkl','wb') as files:\n",
    "    pickle.dump(forest,files)"
   ]
  },
  {
   "cell_type": "code",
   "execution_count": null,
   "metadata": {},
   "outputs": [],
   "source": [
    "test_val=[1 for i in range(27)]\n",
    "forest.predict([test_val])"
   ]
  },
  {
   "cell_type": "code",
   "execution_count": null,
   "metadata": {},
   "outputs": [],
   "source": [
    "#Important Features\n",
    "importances = pd.DataFrame({'feature':X_train.columns,'importance':np.round(forest.feature_importances_,3)})\n",
    "importances = importances.sort_values('importance',ascending=False).set_index('feature')\n",
    "importances.plot.bar()"
   ]
  },
  {
   "cell_type": "code",
   "execution_count": null,
   "metadata": {},
   "outputs": [],
   "source": [
    "#Confusion Matrix\n",
    "from sklearn.model_selection import cross_val_predict\n",
    "from sklearn.metrics import confusion_matrix\n",
    "predictions = cross_val_predict(forest, X_train, y_train, cv=3)\n",
    "confusion_matrix(y_train, predictions)"
   ]
  },
  {
   "cell_type": "code",
   "execution_count": null,
   "metadata": {},
   "outputs": [],
   "source": [
    "#183 correctly classified as not mentally ill, 19 wrongly classified as not mentally ill\n",
    "#26 people wrongly classified as mentally ill, 39 correctly classified as mentally ill"
   ]
  },
  {
   "cell_type": "code",
   "execution_count": null,
   "metadata": {},
   "outputs": [],
   "source": [
    "#Recall and Precision\n",
    "from sklearn.metrics import precision_score, recall_score\n",
    "\n",
    "print(\"Precision:\", precision_score(y_train, predictions))\n",
    "print(\"Recall:\",recall_score(y_train, predictions))\n",
    "\n",
    "from sklearn.metrics import f1_score\n",
    "f1_score(y_train, predictions)"
   ]
  },
  {
   "cell_type": "code",
   "execution_count": null,
   "metadata": {},
   "outputs": [],
   "source": [
    "#Precision Recall Curve\n",
    "from sklearn.metrics import precision_recall_curve\n",
    "\n",
    "# getting the probabilities of our predictions\n",
    "y_scores = forest.predict_proba(X_train)\n",
    "y_scores = y_scores[:,1]\n",
    "\n",
    "precision, recall, threshold = precision_recall_curve(y_train, y_scores)\n",
    "def plot_precision_and_recall(precision, recall, threshold):\n",
    "    plt.plot(threshold, precision[:-1], \"orange\", label=\"precision\", linewidth=5)\n",
    "    plt.plot(threshold, recall[:-1], \"b\", label=\"recall\", linewidth=5)\n",
    "    plt.xlabel(\"threshold\", fontsize=19)\n",
    "    plt.legend(loc=\"upper right\", fontsize=19)\n",
    "    plt.ylim([0, 1])\n",
    "\n",
    "plt.figure(figsize=(14, 7))\n",
    "plot_precision_and_recall(precision, recall, threshold)\n",
    "plt.show()"
   ]
  },
  {
   "cell_type": "code",
   "execution_count": null,
   "metadata": {},
   "outputs": [],
   "source": [
    "#ROC AUC Curve\n",
    "from sklearn.metrics import roc_curve\n",
    "# compute true positive rate and false positive rate\n",
    "false_positive_rate, true_positive_rate, thresholds = roc_curve(y_train, y_scores)\n",
    "# plotting them against each other\n",
    "def plot_roc_curve(false_positive_rate, true_positive_rate, label=None):\n",
    "    plt.plot(false_positive_rate, true_positive_rate, linewidth=2, label=label)\n",
    "    plt.plot([0, 1], [0, 1], 'orange', linewidth=4)\n",
    "    plt.axis([0, 1, 0, 1])\n",
    "    plt.xlabel('False Positive Rate (FPR)', fontsize=16)\n",
    "    plt.ylabel('True Positive Rate (TPR)', fontsize=16)\n",
    "\n",
    "plt.figure(figsize=(14, 7))\n",
    "plot_roc_curve(false_positive_rate, true_positive_rate)\n",
    "plt.show()"
   ]
  },
  {
   "cell_type": "code",
   "execution_count": null,
   "metadata": {},
   "outputs": [],
   "source": [
    "from sklearn.metrics import roc_auc_score\n",
    "r_a_score = roc_auc_score(y_train, y_scores)\n",
    "print(\"ROC-AUC-Score:\", r_a_score)"
   ]
  },
  {
   "cell_type": "markdown",
   "metadata": {},
   "source": [
    "__Removing Clear Mental Health Conditions from Data__\n",
    "- Days hospitalized, symptoms, etc"
   ]
  },
  {
   "cell_type": "code",
   "execution_count": null,
   "metadata": {},
   "outputs": [],
   "source": [
    "#dropping said columns, leaving tiredness and lack of concentration\n",
    "#df3.drop(['I have been hospitalized before for my mental illness'],axis=1,inplace=True)\n",
    "#df3.drop(['How many days were you hospitalized for your mental illness'],axis=1,inplace=True)\n",
    "#df3.drop(['I am legally disabled'],axis=1,inplace=True)\n",
    "#df3.drop(['How many times were you hospitalized for your mental illness'],axis=1,inplace=True)\n",
    "#df3.drop(['depression'],axis=1,inplace=True)\n",
    "#df3.drop(['anxiety'],axis=1,inplace=True)\n",
    "#df3.drop(['Obsessive'],axis=1,inplace=True)\n",
    "#df3.drop(['panic attack'],axis=1,inplace=True)\n",
    "#df3.drop(['mood swings'],axis=1,inplace=True)\n",
    "#df3.drop(['compulsive'],axis=1,inplace=True)"
   ]
  },
  {
   "cell_type": "code",
   "execution_count": null,
   "metadata": {},
   "outputs": [],
   "source": [
    "#df3.head(5)"
   ]
  },
  {
   "cell_type": "code",
   "execution_count": null,
   "metadata": {},
   "outputs": [],
   "source": [
    "target=df3['MentallyIll']\n",
    "df3.drop(['MentallyIll'],axis=1,inplace=True)"
   ]
  },
  {
   "cell_type": "code",
   "execution_count": null,
   "metadata": {},
   "outputs": [],
   "source": [
    "X = df3\n",
    "X_train, X_test, y_train, y_test = train_test_split(X,target, test_size=0.2, random_state=0)\n",
    "forest3 = RandomForestClassifier(max_depth=5, random_state=0)\n",
    "forest3.fit(X_train, y_train)"
   ]
  },
  {
   "cell_type": "code",
   "execution_count": null,
   "metadata": {},
   "outputs": [],
   "source": [
    "print(forest3.score(X_test,y_test))\n",
    "#print(forest.score(X_train, y_train))"
   ]
  },
  {
   "cell_type": "code",
   "execution_count": null,
   "metadata": {},
   "outputs": [],
   "source": [
    "#Important Features\n",
    "importances = pd.DataFrame({'feature':X_train.columns,'importance':np.round(forest3.feature_importances_,3)})\n",
    "importances = importances.sort_values('importance',ascending=False).set_index('feature')\n",
    "importances.plot.bar()"
   ]
  },
  {
   "cell_type": "code",
   "execution_count": null,
   "metadata": {},
   "outputs": [],
   "source": [
    "#Confusion Matrix\n",
    "from sklearn.model_selection import cross_val_predict\n",
    "from sklearn.metrics import confusion_matrix\n",
    "predictions = cross_val_predict(forest3, X_train, y_train, cv=3)\n",
    "confusion_matrix(y_train, predictions)"
   ]
  },
  {
   "cell_type": "code",
   "execution_count": null,
   "metadata": {},
   "outputs": [],
   "source": [
    "from sklearn.metrics import roc_auc_score\n",
    "y_scores = forest3.predict_proba(X_train)\n",
    "y_scores = y_scores[:,1]\n",
    "r_a_score = roc_auc_score(y_train, y_scores)\n",
    "print(\"ROC-AUC-Score:\", r_a_score)"
   ]
  },
  {
   "cell_type": "markdown",
   "metadata": {},
   "source": [
    "**Modifying Task to Predict Unemployment Based on Mental Illness and Symptoms**\n"
   ]
  },
  {
   "cell_type": "code",
   "execution_count": null,
   "metadata": {},
   "outputs": [],
   "source": [
    "#Drop income and current employment features\n",
    "#df4.drop(['Income'],axis=1,inplace=True)\n",
    "#df4.drop(['I am currently employed at least part-time'],axis=1,inplace=True)\n",
    "#df4.drop(['Annual income from social welfare programs'],axis=1,inplace=True)\n",
    "#df4.drop(['I receive food stamps'],axis=1,inplace=True)\n",
    "#target=df4['Unemployed']\n",
    "#df4.drop(['Unemployed'],axis=1,inplace=True)\n",
    "#df4.head(5)"
   ]
  },
  {
   "cell_type": "code",
   "execution_count": null,
   "metadata": {},
   "outputs": [],
   "source": [
    "X = df4\n",
    "X_train, X_test, y_train, y_test = train_test_split(X,target, test_size=0.2, random_state=0)\n",
    "forest4 = RandomForestClassifier(max_depth=15, random_state=0)\n",
    "forest4.fit(X_train, y_train)"
   ]
  },
  {
   "cell_type": "code",
   "execution_count": null,
   "metadata": {},
   "outputs": [],
   "source": [
    "#Accuracy\n",
    "\n",
    "print(forest4.score(X_test,y_test))"
   ]
  },
  {
   "cell_type": "code",
   "execution_count": null,
   "metadata": {},
   "outputs": [],
   "source": [
    "#Important Features\n",
    "importances = pd.DataFrame({'feature':X_train.columns,'importance':np.round(forest4.feature_importances_,3)})\n",
    "importances = importances.sort_values('importance',ascending=False).set_index('feature')\n",
    "importances.plot.bar()"
   ]
  },
  {
   "cell_type": "code",
   "execution_count": null,
   "metadata": {},
   "outputs": [],
   "source": [
    "from sklearn.metrics import roc_auc_score\n",
    "y_scores = forest4.predict_proba(X_train)\n",
    "y_scores = y_scores[:,1]\n",
    "r_a_score = roc_auc_score(y_train, y_scores)\n",
    "print(\"ROC-AUC-Score:\", r_a_score)"
   ]
  },
  {
   "attachments": {},
   "cell_type": "markdown",
   "metadata": {},
   "source": [
    "### Using Mental Illness and other parameters to predict panic Attack"
   ]
  },
  {
   "cell_type": "code",
   "execution_count": null,
   "metadata": {},
   "outputs": [],
   "source": []
  },
  {
   "cell_type": "code",
   "execution_count": null,
   "metadata": {},
   "outputs": [],
   "source": [
    "df2.shape"
   ]
  },
  {
   "cell_type": "code",
   "execution_count": null,
   "metadata": {},
   "outputs": [],
   "source": [
    "df2.info()"
   ]
  },
  {
   "cell_type": "code",
   "execution_count": null,
   "metadata": {},
   "outputs": [],
   "source": [
    "target=df2['Panic attacks']\n",
    "df2.drop(['Panic attacks'],axis=1,inplace=True)"
   ]
  },
  {
   "cell_type": "code",
   "execution_count": null,
   "metadata": {},
   "outputs": [],
   "source": [
    "df2"
   ]
  },
  {
   "cell_type": "code",
   "execution_count": null,
   "metadata": {},
   "outputs": [],
   "source": [
    "X = df2\n",
    "X_train, X_test, y_train, y_test = train_test_split(X,target, test_size=0.3, random_state=0)\n",
    "forest6 = RandomForestClassifier(max_depth=15, random_state=0)\n",
    "forest6.fit(X_train, y_train)"
   ]
  },
  {
   "cell_type": "code",
   "execution_count": null,
   "metadata": {},
   "outputs": [],
   "source": [
    "from sklearn.metrics import accuracy_score\n",
    "fo_pred=forest6.predict(X_test)\n",
    "print(\"Accuracy Score is: \",accuracy_score(y_test,fo_pred))\n"
   ]
  },
  {
   "cell_type": "code",
   "execution_count": null,
   "metadata": {},
   "outputs": [],
   "source": [
    "importances = pd.DataFrame({'feature':X_train.columns,'importance':np.round(forest6.feature_importances_,3)})\n",
    "importances = importances.sort_values('importance',ascending=False).set_index('feature')\n",
    "importances.plot.bar()"
   ]
  },
  {
   "cell_type": "code",
   "execution_count": null,
   "metadata": {},
   "outputs": [],
   "source": [
    "import pickle\n",
    "with open('model1.pkl','wb') as files:\n",
    "    pickle.dump(forest6,files)"
   ]
  },
  {
   "cell_type": "markdown",
   "metadata": {},
   "source": [
    "**Removing all Non-mental health related features to predict Unemployment**\n"
   ]
  },
  {
   "cell_type": "code",
   "execution_count": null,
   "metadata": {},
   "outputs": [],
   "source": [
    "#Drop all non mental health features\n",
    "df5.drop(['Income'],axis=1,inplace=True)\n",
    "df5.drop(['I am currently employed at least part-time'],axis=1,inplace=True)\n",
    "df5.drop(['Annual income from social welfare programs'],axis=1,inplace=True)\n",
    "df5.drop(['I receive food stamps'],axis=1,inplace=True)\n",
    "df5.drop(['Education'],axis=1,inplace=True)\n",
    "df5.drop(['I have my own computer separate from a smart phone'],axis=1,inplace=True)\n",
    "df5.drop(['I am legally disabled'],axis=1,inplace=True)\n",
    "df5.drop(['I have my regular access to the internet'],axis=1,inplace=True)\n",
    "df5.drop(['I live with my parents'],axis=1,inplace=True)\n",
    "df5.drop(['I have a gap in my resume'],axis=1,inplace=True)\n",
    "#df5.drop(['Total length of any gaps in my resume in months.'],axis=1,inplace=True)\n",
    "df5.drop(df5.columns[3], axis=1, inplace=True)\n",
    "df5.drop(['I read outside of work and school'],axis=1,inplace=True)\n",
    "df5.drop(['I am on section 8 housing'],axis=1,inplace=True)\n",
    "df5.drop(['Age'],axis=1,inplace=True)\n",
    "df5.drop(['Gender'],axis=1,inplace=True)\n",
    "\n",
    "target=df5['Unemployed']\n",
    "df5.drop(['Unemployed'],axis=1,inplace=True)\n",
    "#df5.head(5)"
   ]
  },
  {
   "cell_type": "code",
   "execution_count": null,
   "metadata": {},
   "outputs": [],
   "source": [
    "df5"
   ]
  },
  {
   "cell_type": "code",
   "execution_count": null,
   "metadata": {},
   "outputs": [],
   "source": [
    "X = df5\n",
    "X_train, X_test, y_train, y_test = train_test_split(X,target, test_size=0.2, random_state=0)\n",
    "forest5 = RandomForestClassifier(max_depth=15, random_state=0)\n",
    "forest5.fit(X_train, y_train)"
   ]
  },
  {
   "cell_type": "code",
   "execution_count": null,
   "metadata": {},
   "outputs": [],
   "source": [
    "#Accuracy\n",
    "print(forest5.score(X_test,y_test))"
   ]
  },
  {
   "cell_type": "code",
   "execution_count": null,
   "metadata": {},
   "outputs": [],
   "source": [
    "#Important Features\n",
    "importances = pd.DataFrame({'feature':X_train.columns,'importance':np.round(forest5.feature_importances_,3)})\n",
    "importances = importances.sort_values('importance',ascending=False).set_index('feature')\n",
    "importances.plot.bar()"
   ]
  },
  {
   "cell_type": "code",
   "execution_count": null,
   "metadata": {},
   "outputs": [],
   "source": [
    "forest5.predict(X_test)"
   ]
  },
  {
   "cell_type": "code",
   "execution_count": null,
   "metadata": {},
   "outputs": [],
   "source": [
    "from sklearn.metrics import roc_auc_score\n",
    "y_scores = forest5.predict_proba(X_train)\n",
    "y_scores = y_scores[:,1]\n",
    "r_a_score = roc_auc_score(y_train, y_scores)\n",
    "print(\"ROC-AUC-Score:\", r_a_score)"
   ]
  },
  {
   "cell_type": "code",
   "execution_count": null,
   "metadata": {},
   "outputs": [],
   "source": [
    "X_train"
   ]
  },
  {
   "cell_type": "code",
   "execution_count": null,
   "metadata": {},
   "outputs": [],
   "source": [
    "import pickle"
   ]
  },
  {
   "cell_type": "code",
   "execution_count": null,
   "metadata": {},
   "outputs": [],
   "source": []
  },
  {
   "cell_type": "markdown",
   "metadata": {},
   "source": [
    "__Conclusion__\n",
    "\n",
    "Without obvious indicators for mental illness such as hospital days and clear conditions, random forest with max_depth of 5 achieved 82% accuracy with a ROC-AUC of 0.9899. The clearest indicators of mental illness are income, education, gaps in resume, age, tiredness, lack of concentration. \n",
    "\n",
    "With clear indicators such as depression, anxiety, etc, random forest with max_depth of 10 achieved 94% accuracy and ROC-AUC of 0.997. Depression, anxiety, hospitalized days, and education were the most important features. \n",
    "\n",
    "As a predictor for unemployment, mental health considerations did play a significant role. Removing features such as current employment status and income, random forest with max_depth of 15 achieved 82% accuracy and ROC-AUC of 0.98. Gaps in resume, education, age, legal disability status, education, and gender were the most significant features.\n",
    "\n",
    "Finally, removing all non-mental health related features to get a predictor for unemployment based solely on mental health indicators, random forest with max_depth of 15 achieved 83% accuracy and ROC-AUC of 0.80. The most important features were days/times hospitalized, panic attacks, and tiredness in that order. Depression and mood swings, and having a mental illness are more relevant features. "
   ]
  },
  {
   "cell_type": "code",
   "execution_count": null,
   "metadata": {},
   "outputs": [],
   "source": [
    "# data to plot\n",
    "n_groups = 4\n",
    "accuracy = (0.82, 0.94, 0.82, 0.83)\n",
    "auc_roc = (0.9899, 0.997, 0.98, 0.80)\n",
    " \n",
    "# create plot\n",
    "a4_dims = (20, 4)\n",
    "fig, ax = plt.subplots(figsize=a4_dims)\n",
    "index = np.arange(n_groups)\n",
    "bar_width = 0.35\n",
    "opacity = 0.8\n",
    " \n",
    "rects1 = plt.bar(index, accuracy, bar_width,\n",
    "alpha=opacity,\n",
    "color='b',\n",
    "label='Accuracy')\n",
    " \n",
    "rects2 = plt.bar(index + bar_width, auc_roc, bar_width,\n",
    "alpha=opacity,\n",
    "color='orange',\n",
    "label='ROC-AUC')\n",
    " \n",
    "plt.xlabel('Model')\n",
    "plt.ylabel('Scores')\n",
    "plt.title('Scores by Model')\n",
    "plt.xticks(index + bar_width, ('Mental Illness, no Indicators', 'Mental Illness, Indicators', \n",
    "                               'Unemployment, no Indicators', 'Unemployment based on Mental Health'))\n",
    "plt.legend()\n",
    "plt.figure(figsize=(30, 7))\n",
    "plt.show()"
   ]
  },
  {
   "cell_type": "code",
   "execution_count": null,
   "metadata": {},
   "outputs": [],
   "source": []
  }
 ],
 "metadata": {
  "kernelspec": {
   "display_name": "Python 3.10.0 64-bit",
   "language": "python",
   "name": "python3"
  },
  "language_info": {
   "codemirror_mode": {
    "name": "ipython",
    "version": 3
   },
   "file_extension": ".py",
   "mimetype": "text/x-python",
   "name": "python",
   "nbconvert_exporter": "python",
   "pygments_lexer": "ipython3",
   "version": "3.10.0 (tags/v3.10.0:b494f59, Oct  4 2021, 19:00:18) [MSC v.1929 64 bit (AMD64)]"
  },
  "vscode": {
   "interpreter": {
    "hash": "213524bb45a1aeaf737b1d8c77d7b8db5d425938d9dffc5f4bc6fe6dd3324700"
   }
  }
 },
 "nbformat": 4,
 "nbformat_minor": 4
}
